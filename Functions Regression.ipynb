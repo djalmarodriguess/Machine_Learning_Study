{
 "cells": [
  {
   "cell_type": "markdown",
   "id": "0efdff1e",
   "metadata": {},
   "source": [
    "# Linear/Multiple Regression"
   ]
  },
  {
   "cell_type": "code",
   "execution_count": null,
   "id": "77e818a1",
   "metadata": {},
   "outputs": [],
   "source": [
    "import pandas as pd\n",
    "from sklearn.linear_model import LinearRegression\n",
    "from sklearn.model_selection import train_test_split\n",
    "from sklearn.metrics import mean_squared_error, r2_score\n",
    "\n",
    "def linear_regression(data):\n",
    "    # Split data into training and testing sets\n",
    "    X_train, X_test, y_train, y_test = train_test_split(X, y, test_size=0.3, random_state=42)\n",
    "    \n",
    "     # Scale data using StandardScaler\n",
    "    scaler = StandardScaler()\n",
    "    X_train = scaler.fit_transform(X_train)\n",
    "    X_test = scaler.transform(X_test)\n",
    "       \n",
    "    # Create a linear regression model\n",
    "    model = LinearRegression()\n",
    "    \n",
    "    # Train the model using scaled data\n",
    "    model.fit(X_train, y_train)\n",
    "    \n",
    "    # Make predictions using the test data\n",
    "    y_pred = model.predict(X_test)\n",
    "    \n",
    "    # Print metrics\n",
    "    print(\"R2 Score: \", r2_score(y_test, y_pred))\n",
    "    print(\"Mean Squared Error: \", mean_squared_error(y_test, y_pred))\n",
    "    \n",
    "# Usage example\n",
    "data = pd.read_csv('data.csv')\n",
    "linear_regression(data)"
   ]
  },
  {
   "cell_type": "markdown",
   "id": "3287d529",
   "metadata": {},
   "source": [
    "# Polynomial Regression "
   ]
  },
  {
   "cell_type": "code",
   "execution_count": 293,
   "id": "1b61ee0a",
   "metadata": {},
   "outputs": [],
   "source": [
    "from sklearn.preprocessing import PolynomialFeatures\n",
    "from sklearn.linear_model import LinearRegression\n",
    "import pandas as pd\n",
    "\n",
    "def polynomial_regression(df, degree):\n",
    "    \n",
    "    # Create an instance of the polynomial features transformation\n",
    "    polynomial_features = PolynomialFeatures(degree=degree)\n",
    "\n",
    "    # Transform the independent variables to their polynomial representation\n",
    "    X_polynomial = polynomial_features.fit_transform(X)\n",
    "\n",
    "    # Create an instance of the regression model\n",
    "    model = LinearRegression()\n",
    "\n",
    "    # Fit the model to the transformed data\n",
    "    model.fit(X_polynomial, y)\n",
    "\n",
    "    # Print the coefficients of the polynomial regression\n",
    "    print('Coefficients:', model.coef_)\n",
    "\n",
    "    # Print the R-squared value\n",
    "    print('R-squared:', model.score(X_polynomial, y))\n",
    "\n",
    "    return model\n",
    "\n",
    "polynomial_regression(data, 2)\n"
   ]
  },
  {
   "cell_type": "markdown",
   "id": "43dfb170",
   "metadata": {},
   "source": [
    "# Ridge Regression "
   ]
  },
  {
   "cell_type": "code",
   "execution_count": 300,
   "id": "45119a29",
   "metadata": {},
   "outputs": [],
   "source": [
    "from sklearn.linear_model import Ridge\n",
    "import pandas as pd\n",
    "from sklearn.model_selection import train_test_split\n",
    "from sklearn.metrics import mean_squared_error\n",
    "\n",
    "# Split data into training and testing sets\n",
    "X_train, X_test, y_train, y_test = train_test_split(X, y, test_size=0.3, random_state=42)\n",
    "\n",
    "def ridge_regression(df, alpha):\n",
    "\n",
    "    # Create an instance of the Ridge regression model\n",
    "    model = Ridge(alpha=alpha)\n",
    "\n",
    "    # Fit the model to the data\n",
    "    model.fit(X_train, y_train)\n",
    "    \n",
    "    # Make predictions using the test data\n",
    "    predictions = model.predict(X_test)\n",
    "\n",
    "    # Print the coefficients of the Ridge regression\n",
    "    print('Coefficients:', model.coef_)\n",
    "\n",
    "    mse = mean_squared_error(y_test, predictions)\n",
    "    \n",
    "    # Print the MSE value\n",
    "    print(f'Mean Squared Error: {mse}')\n",
    "\n",
    "    return model\n",
    "\n",
    "# Perform the Ridge regression analysis\n",
    "ridge_regression(df, 1 )"
   ]
  },
  {
   "cell_type": "markdown",
   "id": "b7b48197",
   "metadata": {},
   "source": [
    "# Lasso Regression "
   ]
  },
  {
   "cell_type": "code",
   "execution_count": null,
   "id": "0e026b9a",
   "metadata": {},
   "outputs": [],
   "source": [
    "from sklearn.linear_model import Lasso\n",
    "import pandas as pd\n",
    "\n",
    "def lasso_regression(df, alpha):\n",
    "\n",
    "    # Create an instance of the Lasso regression model\n",
    "    model = Lasso(alpha=alpha)\n",
    "\n",
    "    # Fit the model to the data\n",
    "    model.fit(X_train, y_train)\n",
    "    \n",
    "    # Make predictions using the test data\n",
    "    y_pred = model.predict(X_test)\n",
    "\n",
    "    # Print the coefficients of the Lasso regression\n",
    "    print('Coefficients:', model.coef_)\n",
    "\n",
    "    # Print the R-squared value\n",
    "    print('R-squared:', model.score(y_test, y_pred))\n",
    "\n",
    "    return model\n",
    "\n",
    "# Perform the Lasso regression analysis\n",
    "lasso_regression(df, alpha=1.0)"
   ]
  },
  {
   "cell_type": "markdown",
   "id": "dc7534f7",
   "metadata": {},
   "source": [
    "# Elastic Net Regression"
   ]
  },
  {
   "cell_type": "code",
   "execution_count": null,
   "id": "6827fd12",
   "metadata": {},
   "outputs": [],
   "source": [
    "from sklearn.linear_model import ElasticNet\n",
    "import pandas as pd\n",
    "\n",
    "def elastic_net_regression(df, alpha, l1_ratio):\n",
    "\n",
    "    # Create an instance of the ElasticNet regression model\n",
    "    model = ElasticNet(alpha=alpha, l1_ratio=l1_ratio)\n",
    "\n",
    "    # Fit the model to the data\n",
    "    model.fit(X_train, y_train)\n",
    "    \n",
    "    # Make predictions using the test data\n",
    "    y_pred = model.predict(X_test)\n",
    "\n",
    "    # Print the coefficients of the ElasticNet regression\n",
    "    print('Coefficients:', model.coef_)\n",
    "\n",
    "    # Print the R-squared value\n",
    "    print('R-squared:', model.score(y_test, y_pred))\n",
    "\n",
    "    return model\n",
    "\n",
    "\n",
    "# Perform the ElasticNet regression analysis\n",
    "result = elastic_net_regression(df, 1, l1_ratio=0.5)"
   ]
  }
 ],
 "metadata": {
  "kernelspec": {
   "display_name": "Python 3 (ipykernel)",
   "language": "python",
   "name": "python3"
  },
  "language_info": {
   "codemirror_mode": {
    "name": "ipython",
    "version": 3
   },
   "file_extension": ".py",
   "mimetype": "text/x-python",
   "name": "python",
   "nbconvert_exporter": "python",
   "pygments_lexer": "ipython3",
   "version": "3.11.4"
  }
 },
 "nbformat": 4,
 "nbformat_minor": 5
}
