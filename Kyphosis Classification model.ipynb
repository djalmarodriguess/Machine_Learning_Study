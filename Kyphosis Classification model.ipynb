{
 "cells": [
  {
   "cell_type": "code",
   "execution_count": 360,
   "id": "70f8f655",
   "metadata": {},
   "outputs": [],
   "source": [
    "import pandas as pd\n",
    "\n",
    "from sklearn.preprocessing import LabelEncoder\n",
    "from sklearn.linear_model import LogisticRegression\n",
    "from sklearn.tree import DecisionTreeClassifier\n",
    "from sklearn.ensemble import RandomForestClassifier, GradientBoostingClassifier\n",
    "from sklearn.svm import SVC\n",
    "from sklearn.metrics import classification_report\n",
    "\n",
    "import warnings\n",
    "warnings.filterwarnings('ignore')\n",
    "pd.options.display.float_format = \"{:,.2f}\".format"
   ]
  },
  {
   "cell_type": "code",
   "execution_count": 372,
   "id": "f0f947e3",
   "metadata": {},
   "outputs": [],
   "source": [
    "# Read Dataset\n",
    "df = pd.read_csv('kyphosis.csv')"
   ]
  },
  {
   "cell_type": "code",
   "execution_count": 362,
   "id": "cb2895e0",
   "metadata": {
    "scrolled": true
   },
   "outputs": [
    {
     "data": {
      "text/html": [
       "<div>\n",
       "<style scoped>\n",
       "    .dataframe tbody tr th:only-of-type {\n",
       "        vertical-align: middle;\n",
       "    }\n",
       "\n",
       "    .dataframe tbody tr th {\n",
       "        vertical-align: top;\n",
       "    }\n",
       "\n",
       "    .dataframe thead th {\n",
       "        text-align: right;\n",
       "    }\n",
       "</style>\n",
       "<table border=\"1\" class=\"dataframe\">\n",
       "  <thead>\n",
       "    <tr style=\"text-align: right;\">\n",
       "      <th></th>\n",
       "      <th>Kyphosis</th>\n",
       "      <th>Age</th>\n",
       "      <th>Number</th>\n",
       "      <th>Start</th>\n",
       "    </tr>\n",
       "  </thead>\n",
       "  <tbody>\n",
       "    <tr>\n",
       "      <th>0</th>\n",
       "      <td>absent</td>\n",
       "      <td>71</td>\n",
       "      <td>3</td>\n",
       "      <td>5</td>\n",
       "    </tr>\n",
       "    <tr>\n",
       "      <th>1</th>\n",
       "      <td>absent</td>\n",
       "      <td>158</td>\n",
       "      <td>3</td>\n",
       "      <td>14</td>\n",
       "    </tr>\n",
       "    <tr>\n",
       "      <th>2</th>\n",
       "      <td>present</td>\n",
       "      <td>128</td>\n",
       "      <td>4</td>\n",
       "      <td>5</td>\n",
       "    </tr>\n",
       "    <tr>\n",
       "      <th>3</th>\n",
       "      <td>absent</td>\n",
       "      <td>2</td>\n",
       "      <td>5</td>\n",
       "      <td>1</td>\n",
       "    </tr>\n",
       "    <tr>\n",
       "      <th>4</th>\n",
       "      <td>absent</td>\n",
       "      <td>1</td>\n",
       "      <td>4</td>\n",
       "      <td>15</td>\n",
       "    </tr>\n",
       "  </tbody>\n",
       "</table>\n",
       "</div>"
      ],
      "text/plain": [
       "  Kyphosis  Age  Number  Start\n",
       "0   absent   71       3      5\n",
       "1   absent  158       3     14\n",
       "2  present  128       4      5\n",
       "3   absent    2       5      1\n",
       "4   absent    1       4     15"
      ]
     },
     "execution_count": 362,
     "metadata": {},
     "output_type": "execute_result"
    }
   ],
   "source": [
    "df.head()"
   ]
  },
  {
   "cell_type": "code",
   "execution_count": 363,
   "id": "5ffddb11",
   "metadata": {
    "scrolled": true
   },
   "outputs": [
    {
     "data": {
      "text/plain": [
       "['Kyphosis', 'Age', 'Number', 'Start']"
      ]
     },
     "execution_count": 363,
     "metadata": {},
     "output_type": "execute_result"
    }
   ],
   "source": [
    "list(df.columns)"
   ]
  },
  {
   "cell_type": "code",
   "execution_count": 364,
   "id": "2b0fb14f",
   "metadata": {
    "scrolled": true
   },
   "outputs": [
    {
     "name": "stdout",
     "output_type": "stream",
     "text": [
      "<class 'pandas.core.frame.DataFrame'>\n",
      "RangeIndex: 81 entries, 0 to 80\n",
      "Data columns (total 4 columns):\n",
      " #   Column    Non-Null Count  Dtype \n",
      "---  ------    --------------  ----- \n",
      " 0   Kyphosis  81 non-null     object\n",
      " 1   Age       81 non-null     int64 \n",
      " 2   Number    81 non-null     int64 \n",
      " 3   Start     81 non-null     int64 \n",
      "dtypes: int64(3), object(1)\n",
      "memory usage: 2.7+ KB\n"
     ]
    }
   ],
   "source": [
    "df.info()"
   ]
  },
  {
   "cell_type": "markdown",
   "id": "45f28d8c",
   "metadata": {},
   "source": [
    "# Converts the categorical data into numerical"
   ]
  },
  {
   "cell_type": "code",
   "execution_count": 365,
   "id": "6750712e",
   "metadata": {
    "scrolled": false
   },
   "outputs": [
    {
     "data": {
      "text/html": [
       "<div>\n",
       "<style scoped>\n",
       "    .dataframe tbody tr th:only-of-type {\n",
       "        vertical-align: middle;\n",
       "    }\n",
       "\n",
       "    .dataframe tbody tr th {\n",
       "        vertical-align: top;\n",
       "    }\n",
       "\n",
       "    .dataframe thead th {\n",
       "        text-align: right;\n",
       "    }\n",
       "</style>\n",
       "<table border=\"1\" class=\"dataframe\">\n",
       "  <thead>\n",
       "    <tr style=\"text-align: right;\">\n",
       "      <th></th>\n",
       "      <th>Kyphosis</th>\n",
       "      <th>Age</th>\n",
       "      <th>Number</th>\n",
       "      <th>Start</th>\n",
       "    </tr>\n",
       "  </thead>\n",
       "  <tbody>\n",
       "    <tr>\n",
       "      <th>0</th>\n",
       "      <td>0</td>\n",
       "      <td>71</td>\n",
       "      <td>3</td>\n",
       "      <td>5</td>\n",
       "    </tr>\n",
       "    <tr>\n",
       "      <th>1</th>\n",
       "      <td>0</td>\n",
       "      <td>158</td>\n",
       "      <td>3</td>\n",
       "      <td>14</td>\n",
       "    </tr>\n",
       "    <tr>\n",
       "      <th>2</th>\n",
       "      <td>1</td>\n",
       "      <td>128</td>\n",
       "      <td>4</td>\n",
       "      <td>5</td>\n",
       "    </tr>\n",
       "    <tr>\n",
       "      <th>3</th>\n",
       "      <td>0</td>\n",
       "      <td>2</td>\n",
       "      <td>5</td>\n",
       "      <td>1</td>\n",
       "    </tr>\n",
       "    <tr>\n",
       "      <th>4</th>\n",
       "      <td>0</td>\n",
       "      <td>1</td>\n",
       "      <td>4</td>\n",
       "      <td>15</td>\n",
       "    </tr>\n",
       "    <tr>\n",
       "      <th>...</th>\n",
       "      <td>...</td>\n",
       "      <td>...</td>\n",
       "      <td>...</td>\n",
       "      <td>...</td>\n",
       "    </tr>\n",
       "    <tr>\n",
       "      <th>76</th>\n",
       "      <td>1</td>\n",
       "      <td>157</td>\n",
       "      <td>3</td>\n",
       "      <td>13</td>\n",
       "    </tr>\n",
       "    <tr>\n",
       "      <th>77</th>\n",
       "      <td>0</td>\n",
       "      <td>26</td>\n",
       "      <td>7</td>\n",
       "      <td>13</td>\n",
       "    </tr>\n",
       "    <tr>\n",
       "      <th>78</th>\n",
       "      <td>0</td>\n",
       "      <td>120</td>\n",
       "      <td>2</td>\n",
       "      <td>13</td>\n",
       "    </tr>\n",
       "    <tr>\n",
       "      <th>79</th>\n",
       "      <td>1</td>\n",
       "      <td>42</td>\n",
       "      <td>7</td>\n",
       "      <td>6</td>\n",
       "    </tr>\n",
       "    <tr>\n",
       "      <th>80</th>\n",
       "      <td>0</td>\n",
       "      <td>36</td>\n",
       "      <td>4</td>\n",
       "      <td>13</td>\n",
       "    </tr>\n",
       "  </tbody>\n",
       "</table>\n",
       "<p>81 rows × 4 columns</p>\n",
       "</div>"
      ],
      "text/plain": [
       "    Kyphosis  Age  Number  Start\n",
       "0          0   71       3      5\n",
       "1          0  158       3     14\n",
       "2          1  128       4      5\n",
       "3          0    2       5      1\n",
       "4          0    1       4     15\n",
       "..       ...  ...     ...    ...\n",
       "76         1  157       3     13\n",
       "77         0   26       7     13\n",
       "78         0  120       2     13\n",
       "79         1   42       7      6\n",
       "80         0   36       4     13\n",
       "\n",
       "[81 rows x 4 columns]"
      ]
     },
     "execution_count": 365,
     "metadata": {},
     "output_type": "execute_result"
    }
   ],
   "source": [
    "def label_encode_columns(df):\n",
    "    le = LabelEncoder()\n",
    "\n",
    "    # Select object columns\n",
    "    object_cols = df.select_dtypes(include='object').columns\n",
    "\n",
    "    # Apply LabelEncoder to each column\n",
    "    for col in object_cols:\n",
    "        df[col] = le.fit_transform(df[col])\n",
    "\n",
    "    # Return the modified dataframe\n",
    "    return df\n",
    "\n",
    "label_encode_columns(df)"
   ]
  },
  {
   "cell_type": "code",
   "execution_count": 366,
   "id": "9d54500e",
   "metadata": {
    "scrolled": true
   },
   "outputs": [
    {
     "data": {
      "text/plain": [
       "Kyphosis    int32\n",
       "Age         int64\n",
       "Number      int64\n",
       "Start       int64\n",
       "dtype: object"
      ]
     },
     "execution_count": 366,
     "metadata": {},
     "output_type": "execute_result"
    }
   ],
   "source": [
    "# Types after encoding data\n",
    "df.dtypes"
   ]
  },
  {
   "cell_type": "code",
   "execution_count": 367,
   "id": "7cf1c0bb",
   "metadata": {},
   "outputs": [
    {
     "data": {
      "text/plain": [
       "array([0, 1])"
      ]
     },
     "execution_count": 367,
     "metadata": {},
     "output_type": "execute_result"
    }
   ],
   "source": [
    "df.Kyphosis.unique()"
   ]
  },
  {
   "cell_type": "code",
   "execution_count": 368,
   "id": "58cbb43e",
   "metadata": {
    "scrolled": true
   },
   "outputs": [
    {
     "data": {
      "text/plain": [
       "Kyphosis\n",
       "0   0.79\n",
       "1   0.21\n",
       "Name: proportion, dtype: float64"
      ]
     },
     "execution_count": 368,
     "metadata": {},
     "output_type": "execute_result"
    }
   ],
   "source": [
    "df.Kyphosis.value_counts(normalize=True)"
   ]
  },
  {
   "cell_type": "markdown",
   "id": "81452bcd",
   "metadata": {},
   "source": [
    "# Split data into Train and Test"
   ]
  },
  {
   "cell_type": "code",
   "execution_count": 369,
   "id": "751edd53",
   "metadata": {},
   "outputs": [],
   "source": [
    "# Split the data into 70% training dataset and 30% test dataset.\n",
    "from sklearn.model_selection import train_test_split\n",
    "\n",
    "X = df.iloc[:,1:]                    # Select Features\n",
    "y = df['Kyphosis'].copy()            # Select independent variable\n",
    "\n",
    "#Split the dataset\n",
    "X_train, X_test, y_train, y_test = train_test_split(X, y, test_size =0.3, random_state = 42 )"
   ]
  },
  {
   "cell_type": "markdown",
   "id": "d2f66ac1",
   "metadata": {},
   "source": [
    "# Standardize data"
   ]
  },
  {
   "cell_type": "code",
   "execution_count": 370,
   "id": "cef38337",
   "metadata": {},
   "outputs": [],
   "source": [
    "# Standardize training and test datasets.\n",
    "from sklearn.preprocessing import StandardScaler\n",
    "\n",
    "scaler = StandardScaler()\n",
    "X_train = scaler.fit_transform(X_train)\n",
    "X_test = scaler.transform(X_test)"
   ]
  },
  {
   "cell_type": "markdown",
   "id": "64a543d4",
   "metadata": {},
   "source": [
    "# Model ML and Evaluate models"
   ]
  },
  {
   "cell_type": "code",
   "execution_count": 371,
   "id": "3d44e369",
   "metadata": {},
   "outputs": [
    {
     "name": "stdout",
     "output_type": "stream",
     "text": [
      "Logistic Regression\n",
      "              precision    recall  f1-score   support\n",
      "\n",
      "           0       0.79      1.00      0.88        19\n",
      "           1       1.00      0.17      0.29         6\n",
      "\n",
      "    accuracy                           0.80        25\n",
      "   macro avg       0.90      0.58      0.58        25\n",
      "weighted avg       0.84      0.80      0.74        25\n",
      "\n",
      "--------------------------------------------------------\n",
      "Decision Tree\n",
      "              precision    recall  f1-score   support\n",
      "\n",
      "           0       0.80      0.84      0.82        19\n",
      "           1       0.40      0.33      0.36         6\n",
      "\n",
      "    accuracy                           0.72        25\n",
      "   macro avg       0.60      0.59      0.59        25\n",
      "weighted avg       0.70      0.72      0.71        25\n",
      "\n",
      "--------------------------------------------------------\n",
      "Random Forest\n",
      "              precision    recall  f1-score   support\n",
      "\n",
      "           0       0.79      1.00      0.88        19\n",
      "           1       1.00      0.17      0.29         6\n",
      "\n",
      "    accuracy                           0.80        25\n",
      "   macro avg       0.90      0.58      0.58        25\n",
      "weighted avg       0.84      0.80      0.74        25\n",
      "\n",
      "--------------------------------------------------------\n",
      "Gradient Boosting\n",
      "              precision    recall  f1-score   support\n",
      "\n",
      "           0       0.76      0.84      0.80        19\n",
      "           1       0.25      0.17      0.20         6\n",
      "\n",
      "    accuracy                           0.68        25\n",
      "   macro avg       0.51      0.50      0.50        25\n",
      "weighted avg       0.64      0.68      0.66        25\n",
      "\n",
      "--------------------------------------------------------\n",
      "SVM\n",
      "              precision    recall  f1-score   support\n",
      "\n",
      "           0       0.83      1.00      0.90        19\n",
      "           1       1.00      0.33      0.50         6\n",
      "\n",
      "    accuracy                           0.84        25\n",
      "   macro avg       0.91      0.67      0.70        25\n",
      "weighted avg       0.87      0.84      0.81        25\n",
      "\n",
      "--------------------------------------------------------\n"
     ]
    }
   ],
   "source": [
    "classifiers = {'Logistic Regression': LogisticRegression(), 'Decision Tree': DecisionTreeClassifier(),\n",
    "               'Random Forest': RandomForestClassifier(), 'Gradient Boosting': GradientBoostingClassifier(), 'SVM': SVC()}\n",
    "\n",
    "for model_name, model in classifiers.items():\n",
    "    model.fit(X_train, y_train)\n",
    "    y_pred = model.predict(X_test)\n",
    "    print(model_name)\n",
    "    print(classification_report(y_test, y_pred))\n",
    "    print('--------------------------------------------------------')"
   ]
  },
  {
   "cell_type": "markdown",
   "id": "a28567a4",
   "metadata": {},
   "source": [
    "# Conclusion"
   ]
  },
  {
   "cell_type": "markdown",
   "id": "d13618d3",
   "metadata": {},
   "source": [
    "Based on the results presented, the SVM model is the most suitable for classifying customers with or without kyphosis. It shows the best performance across all evaluation metrics, including accuracy, precision, recall, and F1-score.\n",
    "\n",
    "Accuracy is an important performance metric, but it is not the only one. In the specific case of a dataset of customers classified with kyphosis or not, the SVM is a good choice because it is able to separate the two groups of customers with high precision. This is important because the goal of a classification model is to minimize classification error.\n",
    "\n",
    "It is important to note that the choice of the ideal model should take into account the specific objectives of the problem. In the case of classifying customers with kyphosis, the SVM is a good choice because it shows consistent performance across all evaluation metrics."
   ]
  }
 ],
 "metadata": {
  "kernelspec": {
   "display_name": "Python 3 (ipykernel)",
   "language": "python",
   "name": "python3"
  },
  "language_info": {
   "codemirror_mode": {
    "name": "ipython",
    "version": 3
   },
   "file_extension": ".py",
   "mimetype": "text/x-python",
   "name": "python",
   "nbconvert_exporter": "python",
   "pygments_lexer": "ipython3",
   "version": "3.11.4"
  }
 },
 "nbformat": 4,
 "nbformat_minor": 5
}
